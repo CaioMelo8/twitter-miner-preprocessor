{
 "cells": [
  {
   "cell_type": "code",
   "execution_count": null,
   "metadata": {
    "collapsed": true
   },
   "outputs": [],
   "source": [
    "import os\n",
    "import re\n",
    "import copy\n",
    "\n",
    "import pandas as pd\n",
    "pd.options.display.max_colwidth = 150\n",
    "\n",
    "from nltk.corpus import stopwords"
   ]
  },
  {
   "cell_type": "code",
   "execution_count": null,
   "metadata": {
    "collapsed": true
   },
   "outputs": [],
   "source": [
    "def criar_diretorio(dirpath):\n",
    "    if not os.path.exists(dirpath):\n",
    "        os.makedirs(dirpath)"
   ]
  },
  {
   "cell_type": "code",
   "execution_count": null,
   "metadata": {
    "collapsed": true
   },
   "outputs": [],
   "source": [
    "basedir = os.getcwd()\n",
    "\n",
    "data_basedir = os.path.join(basedir, \"data\", \"super-mario-odyssey\")\n",
    "results_basedir = os.path.join(basedir, \"results\", \"super-mario-odyssey\")\n",
    "gephi_filename = \"super-mario-odyssey.dl\"\n",
    "\n",
    "criar_diretorio(data_basedir)\n",
    "criar_diretorio(results_basedir)"
   ]
  },
  {
   "cell_type": "code",
   "execution_count": null,
   "metadata": {
    "scrolled": false
   },
   "outputs": [],
   "source": [
    "files = os.listdir(data_basedir)\n",
    "\n",
    "exports = []\n",
    "\n",
    "for file in files:\n",
    "    filename = os.fsdecode(file)\n",
    "    \n",
    "    filepath = os.path.join(data_basedir, filename)\n",
    "    \n",
    "    export = pd.read_csv(filepath_or_buffer=filepath, header=0, sep=\"\\t\", encoding=\"UTF-8\")\n",
    "    \n",
    "    exports.append(export)\n",
    "\n",
    "export = pd.concat(exports, ignore_index=True)"
   ]
  },
  {
   "cell_type": "code",
   "execution_count": null,
   "metadata": {},
   "outputs": [],
   "source": [
    "export_filename = os.path.join(results_basedir, \"super-mario-odyssey-final.tsv\")\n",
    "export.to_csv(path_or_buf=export_filename, sep=\"\\t\", encoding=\"UTF-8\", index=None)"
   ]
  },
  {
   "cell_type": "code",
   "execution_count": null,
   "metadata": {
    "collapsed": true
   },
   "outputs": [],
   "source": [
    "def remove_links(text):\n",
    "    regex = r'(?i)\\b((?:https?://|www\\d{0,3}[.]|[a-z0-9.\\-]+[.][a-z]{2,4}     /)(?:[^\\s()<>]+|\\(([^\\s()<>]+|(\\([^\\s()<>]+\\)))*\\))+(?:\\(([^\\s()<>]+|(\\([^\\s()<>]+\\)))*\\)|[^\\s`!()\\[\\]{};:\\'\".,<>?«»“”‘’]))'\n",
    "    \n",
    "    copy_text = copy.copy(text)\n",
    "    \n",
    "    copy_text = re.sub(\"https|http\", \" https\", copy_text)\n",
    "    \n",
    "    copy_text = re.sub(regex, \"\", copy_text)\n",
    "    \n",
    "    copy_text = re.sub(\"https|http\", \"\", copy_text)\n",
    "    \n",
    "    return copy_text"
   ]
  },
  {
   "cell_type": "code",
   "execution_count": null,
   "metadata": {
    "collapsed": true
   },
   "outputs": [],
   "source": [
    "def remove_numbers_special_characters(text):\n",
    "    regex = \"[^a-zA-Z@#]\"\n",
    "    return re.sub(regex, \" \", text)"
   ]
  },
  {
   "cell_type": "code",
   "execution_count": null,
   "metadata": {
    "collapsed": true
   },
   "outputs": [],
   "source": [
    "def remove_empty_hashtags(words):\n",
    "    return [word for word in words if word != \"#\"]"
   ]
  },
  {
   "cell_type": "code",
   "execution_count": null,
   "metadata": {
    "collapsed": true
   },
   "outputs": [],
   "source": [
    "def remove_rt(words):\n",
    "    return [word for word in words if word != \"rt\"]"
   ]
  },
  {
   "cell_type": "code",
   "execution_count": null,
   "metadata": {
    "collapsed": true
   },
   "outputs": [],
   "source": [
    "def remove_mentions(words):\n",
    "    return [word for word in words if not re.search(\"@\", word)]"
   ]
  },
  {
   "cell_type": "code",
   "execution_count": null,
   "metadata": {
    "collapsed": true
   },
   "outputs": [],
   "source": [
    "def remove_stopwords(words):\n",
    "    return [word for word in words if word not in stopwords.words(\"english\")]"
   ]
  },
  {
   "cell_type": "code",
   "execution_count": null,
   "metadata": {
    "collapsed": true,
    "scrolled": true
   },
   "outputs": [],
   "source": [
    "def clean_tweets(tweets):\n",
    "    clean_tweets = []\n",
    "    \n",
    "    for tweet in tweets:\n",
    "        tweet_copy = copy.copy(tweet)\n",
    "\n",
    "        # Remove links\n",
    "        tweet_copy = remove_links(tweet_copy)\n",
    "\n",
    "        # Deixa apenas as letras e os @\n",
    "        tweet_copy = remove_numbers_special_characters(tweet_copy)\n",
    "\n",
    "        # Transforma para lower case\n",
    "        tweet_copy = tweet_copy.lower()\n",
    "\n",
    "        # Quebra em uma lista de palavras\n",
    "        tweet_words = tweet_copy.split()\n",
    "        \n",
    "        # Remove todas as hashtags vazias\n",
    "        tweet_words = remove_empty_hashtags(tweet_words)\n",
    "\n",
    "        # Remove as palavras RT\n",
    "        tweet_words = remove_rt(tweet_words)\n",
    "\n",
    "        # Remove todos os mentions\n",
    "        tweet_words = remove_mentions(tweet_words)\n",
    "\n",
    "        # Remove as stopwords\n",
    "        tweet_words = remove_stopwords(tweet_words)\n",
    "        \n",
    "        clean_tweets.append(tweet_words)\n",
    "        \n",
    "    return clean_tweets"
   ]
  },
  {
   "cell_type": "code",
   "execution_count": null,
   "metadata": {
    "collapsed": true,
    "scrolled": true
   },
   "outputs": [],
   "source": [
    "tweets = clean_tweets(export[\"description\"])"
   ]
  },
  {
   "cell_type": "code",
   "execution_count": null,
   "metadata": {
    "collapsed": true
   },
   "outputs": [],
   "source": [
    "filepath = os.path.join(results_basedir, gephi_filename)\n",
    "\n",
    "unique_words_total = set()\n",
    "\n",
    "with open(filepath, \"w+\") as file:\n",
    "    header = \"DL n=120\\n\" \\\n",
    "            + \"format = edgelist1\\n\" \\\n",
    "            + \"labels embedded:\\n\" \\\n",
    "            + \"data:\\n\"\n",
    "    \n",
    "    file.write(header)\n",
    "    \n",
    "    for tweet in tweets:\n",
    "        unique_words = set(tweet)\n",
    "        unique_words_total.update(unique_words)\n",
    "        unique_words = list(unique_words)\n",
    "        \n",
    "        n_words = len(tweet)\n",
    "        for i in range(n_words):\n",
    "            for j in range(i+1, n_words):\n",
    "                file.write(tweet[i] + \"\\t\" + tweet[j] + \"\\n\")\n",
    "\n",
    "file.close()"
   ]
  },
  {
   "cell_type": "code",
   "execution_count": null,
   "metadata": {
    "collapsed": true
   },
   "outputs": [],
   "source": [
    "num_linhas = None\n",
    "num_linhas_cabecalho = 4\n",
    "\n",
    "with open(filepath, \"r\") as f:\n",
    "    num_linhas = sum(1 for line in f)"
   ]
  },
  {
   "cell_type": "code",
   "execution_count": null,
   "metadata": {},
   "outputs": [],
   "source": [
    "print(\"Número de tweets: \", len(tweets))\n",
    "print(\"Número de tweets não vazios: \", len([tweet for tweet in tweets if len(\" \".join(tweet).split(\" \")) >= 1]))\n",
    "print(\"Número de palavras únicas: \", len(unique_words_total))\n",
    "print(\"Número de relações entre palavras: \", num_linhas - num_linhas_cabecalho)"
   ]
  },
  {
   "cell_type": "code",
   "execution_count": null,
   "metadata": {
    "collapsed": true
   },
   "outputs": [],
   "source": []
  }
 ],
 "metadata": {
  "kernelspec": {
   "display_name": "Python 3",
   "language": "python",
   "name": "python3"
  },
  "language_info": {
   "codemirror_mode": {
    "name": "ipython",
    "version": 3
   },
   "file_extension": ".py",
   "mimetype": "text/x-python",
   "name": "python",
   "nbconvert_exporter": "python",
   "pygments_lexer": "ipython3",
   "version": "3.6.1"
  }
 },
 "nbformat": 4,
 "nbformat_minor": 2
}
