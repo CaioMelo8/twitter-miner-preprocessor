{
 "cells": [
  {
   "cell_type": "code",
   "execution_count": null,
   "metadata": {},
   "outputs": [],
   "source": [
    "import os\n",
    "import csv\n",
    "import codecs\n",
    "import pandas as pd"
   ]
  },
  {
   "cell_type": "code",
   "execution_count": null,
   "metadata": {},
   "outputs": [],
   "source": [
    "def create_directory_tree(dirpath):\n",
    "    if not os.path.exists(dirpath):\n",
    "        os.makedirs(dirpath)"
   ]
  },
  {
   "cell_type": "code",
   "execution_count": null,
   "metadata": {},
   "outputs": [],
   "source": [
    "def read_csv_file(dirpath, filename, header=0, sep=\",\", index_col=None, encoding=\"UTF-8\", quoting=csv.QUOTE_MINIMAL):\n",
    "    filepath = os.path.join(dirpath, filename)\n",
    "    \n",
    "    return pd.read_csv(filepath_or_buffer=filepath, header=header, sep=sep, index_col=index_col, encoding=encoding, quoting=quoting)"
   ]
  },
  {
   "cell_type": "code",
   "execution_count": null,
   "metadata": {},
   "outputs": [],
   "source": [
    "def read_csv_directory(dirpath, file_extension=\".csv\", header=0, sep=\",\", index_col=None, encoding=\"UTF-8\", quoting=csv.QUOTE_MINIMAL):\n",
    "    dataframes = []\n",
    "    \n",
    "    files = os.listdir(dirpath)\n",
    "    \n",
    "    for file in files:    \n",
    "        filename = os.fsdecode(file)\n",
    "        \n",
    "        if filename.endswith(file_extension):\n",
    "            dataframe = read_csv_file(dirpath=dirpath, filename=filename, header=header, sep=sep, index_col=index_col, encoding=encoding, quoting=quoting)\n",
    "            \n",
    "            dataframes.append(dataframe)\n",
    "            \n",
    "    return pd.concat(dataframes, ignore_index=True)"
   ]
  },
  {
   "cell_type": "code",
   "execution_count": null,
   "metadata": {},
   "outputs": [],
   "source": [
    "def generate_dl_file_words(filepath, tweets, open_mode=\"w+\", encoding=\"UTF-8\", header=None):\n",
    "    with codecs.open(filepath, open_mode, encoding) as dlfile:\n",
    "        if header:\n",
    "            dlfile.write(header)\n",
    "        else:\n",
    "            dlfile.write(\"DL n=120\\n\" \\\n",
    "                        + \"format = edgelist1\\n\" \\\n",
    "                        + \"labels embedded:\\n\" \\\n",
    "                        + \"data:\\n\")\n",
    "\n",
    "        for tweet in tweets:\n",
    "            num_words = len(tweet)\n",
    "            \n",
    "            for i in range(num_words):\n",
    "                for j in range(i + 1, num_words):\n",
    "                    line = tweet[i] + \"\\t\" + tweet[j] + \"\\n\"\n",
    "                    dlfile.write(line)\n",
    "                    \n",
    "    dlfile.close()"
   ]
  },
  {
   "cell_type": "code",
   "execution_count": null,
   "metadata": {},
   "outputs": [],
   "source": [
    "def generate_dl_file_users(filepath, authors, tweets, open_mode=\"w+\", encoding=\"UTF-8\", header=None):\n",
    "    with codecs.open(filepath, open_mode, encoding) as dlfile:\n",
    "        if header:\n",
    "            dlfile.write(header)\n",
    "        else:\n",
    "            dlfile.write(\"DL n=120\\n\" \\\n",
    "                        + \"format = edgelist1\\n\" \\\n",
    "                        + \"labels embedded:\\n\" \\\n",
    "                        + \"data:\\n\")\n",
    "\n",
    "        for author, tweet in zip(authors, tweets):\n",
    "            num_words = len(tweet)\n",
    "            \n",
    "            for i in range(num_words):\n",
    "                line = author + \"\\t\" + tweet[i] + \"\\n\"\n",
    "                dlfile.write(line)\n",
    "                    \n",
    "    dlfile.close()"
   ]
  }
 ],
 "metadata": {
  "kernelspec": {
   "display_name": "Python 3",
   "language": "python",
   "name": "python3"
  },
  "language_info": {
   "codemirror_mode": {
    "name": "ipython",
    "version": 3
   },
   "file_extension": ".py",
   "mimetype": "text/x-python",
   "name": "python",
   "nbconvert_exporter": "python",
   "pygments_lexer": "ipython3",
   "version": "3.6.3"
  }
 },
 "nbformat": 4,
 "nbformat_minor": 2
}
