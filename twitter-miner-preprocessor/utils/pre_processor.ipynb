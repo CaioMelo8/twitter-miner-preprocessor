{
 "cells": [
  {
   "cell_type": "code",
   "execution_count": null,
   "metadata": {},
   "outputs": [],
   "source": [
    "import re\n",
    "import copy\n",
    "\n",
    "from nltk.corpus import stopwords\n",
    "from nltk.stem.porter import PorterStemmer"
   ]
  },
  {
   "cell_type": "code",
   "execution_count": null,
   "metadata": {},
   "outputs": [],
   "source": [
    "def remove_links(text, regex=r'(?i)\\b((?:https?://|www\\d{0,3}[.]|[a-z0-9.\\-]+[.][a-z]{2,4}     /)(?:[^\\s()<>]+|\\(([^\\s()<>]+|(\\([^\\s()<>]+\\)))*\\))+(?:\\(([^\\s()<>]+|(\\([^\\s()<>]+\\)))*\\)|[^\\s`!()\\[\\]{};:\\'\".,<>?«»“”‘’]))'):\n",
    "    copy_text = copy.copy(text)\n",
    "    \n",
    "    copy_text = re.sub(\"https|http\", \" https\", copy_text)\n",
    "    \n",
    "    copy_text = re.sub(regex, \"\", copy_text)\n",
    "    \n",
    "    copy_text = re.sub(\"https|http\", \"\", copy_text)\n",
    "    \n",
    "    return copy_text"
   ]
  },
  {
   "cell_type": "code",
   "execution_count": null,
   "metadata": {},
   "outputs": [],
   "source": [
    "def remove_numbers_special_characters(text, regex=\"[^a-zA-Z@#]\"):\n",
    "    return re.sub(regex, \" \", text)"
   ]
  },
  {
   "cell_type": "code",
   "execution_count": null,
   "metadata": {},
   "outputs": [],
   "source": [
    "def remove_empty_hashtags(words):\n",
    "    return [word for word in words if word != \"#\"]"
   ]
  },
  {
   "cell_type": "code",
   "execution_count": null,
   "metadata": {},
   "outputs": [],
   "source": [
    "def remove_rt(words):\n",
    "    return [word for word in words if word != \"rt\"]"
   ]
  },
  {
   "cell_type": "code",
   "execution_count": null,
   "metadata": {},
   "outputs": [],
   "source": [
    "def remove_mentions(words):\n",
    "    return [word for word in words if not re.search(\"@\", word)]"
   ]
  },
  {
   "cell_type": "code",
   "execution_count": null,
   "metadata": {},
   "outputs": [],
   "source": [
    "def remove_stopwords(words, language=\"english\"):\n",
    "    return [word for word in words if word not in set(stopwords.words(language))]"
   ]
  },
  {
   "cell_type": "code",
   "execution_count": null,
   "metadata": {},
   "outputs": [],
   "source": [
    "def stem_words(words, stemmer):\n",
    "    return [stemmer.stem(word) for word in words]"
   ]
  },
  {
   "cell_type": "code",
   "execution_count": null,
   "metadata": {},
   "outputs": [],
   "source": [
    "def get_users(words):\n",
    "    return [word for word in words if word.startswith(\"@\")]"
   ]
  },
  {
   "cell_type": "code",
   "execution_count": null,
   "metadata": {},
   "outputs": [],
   "source": [
    "def pre_processing_words(tweets, stemmer=PorterStemmer(), language=\"english\"):\n",
    "    clean_tweets = []\n",
    "    \n",
    "    for tweet in tweets:\n",
    "        tweet_copy = copy.copy(tweet)\n",
    "        \n",
    "        # Remove links\n",
    "        tweet_copy = remove_links(tweet_copy)\n",
    "\n",
    "        # Deixa apenas as letras e os @\n",
    "        tweet_copy = remove_numbers_special_characters(tweet_copy)\n",
    "\n",
    "        # Transforma para lower case\n",
    "        tweet_copy = tweet_copy.lower()\n",
    "\n",
    "        # Quebra em uma lista de palavras\n",
    "        tweet_words = tweet_copy.split()\n",
    "        \n",
    "        # Remove todas as hashtags vazias\n",
    "        tweet_words = remove_empty_hashtags(tweet_words)\n",
    "\n",
    "        # Remove as palavras RT\n",
    "        tweet_words = remove_rt(tweet_words)\n",
    "\n",
    "        # Remove todos os mentions\n",
    "        tweet_words = remove_mentions(tweet_words)\n",
    "\n",
    "        # Remove as stopwords\n",
    "        tweet_words = remove_stopwords(tweet_words, language=language)\n",
    "        \n",
    "        tweet_words = stem_words(tweet_words, stemmer)\n",
    "        \n",
    "        clean_tweets.append(tweet_words)\n",
    "        \n",
    "    return clean_tweets"
   ]
  },
  {
   "cell_type": "code",
   "execution_count": null,
   "metadata": {},
   "outputs": [],
   "source": [
    "def pre_processing_users(authors, tweets, keep_at_symbol=False):\n",
    "    clean_tweets = []\n",
    "    \n",
    "    if len(authors) != len(tweets):\n",
    "        raise ValueError(\"As listas de Autores e Tweets devem ter o mesmo tamanho!\")\n",
    "    \n",
    "    for author, tweet in zip(authors, tweets):\n",
    "        tweet_copy = copy.copy(tweet)\n",
    "        \n",
    "        # Remove links\n",
    "        tweet_copy = remove_links(tweet_copy)\n",
    "        \n",
    "        tweet_copy = remove_numbers_special_characters(tweet_copy, \"[^a-zA-Z0-9_@]\")\n",
    "\n",
    "        # Transforma para lower case\n",
    "        tweet_copy = tweet_copy.lower()\n",
    "\n",
    "        # Quebra em uma lista de palavras\n",
    "        tweet_words = tweet_copy.split()\n",
    "        \n",
    "        tweet_users = get_users(tweet_words)\n",
    "        \n",
    "        clean_tweets.append(tweet_users)\n",
    "        \n",
    "    return clean_tweets"
   ]
  }
 ],
 "metadata": {
  "kernelspec": {
   "display_name": "Python 3",
   "language": "python",
   "name": "python3"
  },
  "language_info": {
   "codemirror_mode": {
    "name": "ipython",
    "version": 3
   },
   "file_extension": ".py",
   "mimetype": "text/x-python",
   "name": "python",
   "nbconvert_exporter": "python",
   "pygments_lexer": "ipython3",
   "version": "3.6.3"
  }
 },
 "nbformat": 4,
 "nbformat_minor": 2
}
