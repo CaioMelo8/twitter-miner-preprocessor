{
 "cells": [
  {
   "cell_type": "code",
   "execution_count": null,
   "metadata": {},
   "outputs": [],
   "source": [
    "import os\n",
    "import csv\n",
    "\n",
    "# Necessário para importar os notebooks do Jupyter\n",
    "import nbimporter\n",
    "\n",
    "import utils.pre_processor as ppc\n",
    "import utils.file_manager as fm"
   ]
  },
  {
   "cell_type": "code",
   "execution_count": null,
   "metadata": {},
   "outputs": [],
   "source": [
    "# Diretório base do projeto. Corresponde à posta onde este notebook está localizada.\n",
    "basedir = os.getcwd()\n",
    "\n",
    "# Diretório que contém todos os dados utilizados e gerados pela ferramenta.\n",
    "# Neste exemplo, é utilizado a pasta /sample_data, que contém dados e arquivos utilizados\n",
    "data_basedir = os.path.join(basedir, \"sample_data\") \n",
    "\n",
    "# Diretório onde são armazenados os arquivos de dados coletados. Corresponde à pasta /sample_data/exports\n",
    "exports_basedir = os.path.join(data_basedir, \"exports\")\n",
    "\n",
    "# Diretório onde serão armazenados os resultados do pré-processamento. Corresponde à pasta /sample_data/results\n",
    "results_basedir = os.path.join(data_basedir, \"results\")\n",
    "\n",
    "# Nome que define o tema base do que está sendo pré-processado\n",
    "# Neste exemplo, serão pré-processados tweets sobre o jogo Super mario Odyssey.\n",
    "theme = \"super-mario-odyssey\"\n",
    "\n",
    "# Diretório que contém os dados coletados sobre o tema definido\n",
    "# Nesse exemplo, corresponde à pasta /sample_data/super-mario-odyssey\n",
    "smo_exports_basedir = os.path.join(exports_basedir, theme)\n",
    "\n",
    "# Diretório que conterá os resultados obtidos a partir do pré-processamento dos dados\n",
    "# Nesse exemplo, corresponde à pasta sample_data/results/super-mario-odyssey\n",
    "smo_results_basedir = os.path.join(results_basedir, theme)\n",
    "\n",
    "# Nome do arquivo .dl (Gephi) a ser gerado\n",
    "gephi_filename_words = theme + \"-words.dl\"\n",
    "gephi_filename_users = theme + \"-users.dl\"\n",
    "\n",
    "# Cria a estrutura de diretórios necessária para execução da ferramenta.\n",
    "# A função do file-manager (fm) cria toda a árvore de diretórios, até o último diretório especificado no caminho\n",
    "fm.create_directory_tree(smo_exports_basedir)\n",
    "fm.create_directory_tree(smo_results_basedir)"
   ]
  },
  {
   "cell_type": "code",
   "execution_count": null,
   "metadata": {},
   "outputs": [],
   "source": [
    "export = fm.read_csv_directory(smo_exports_basedir, sep=\"\\t\", file_extension=\".tsv\")"
   ]
  },
  {
   "cell_type": "code",
   "execution_count": null,
   "metadata": {
    "scrolled": true
   },
   "outputs": [],
   "source": [
    "text_tweets = export[\"description\"]\n",
    "authors = export[\"author\"].apply(lambda s: \"@\" + s)\n",
    "\n",
    "# Aqui, a funçao clean_tweets do\n",
    "clean_tweets_words = ppc.pre_processing_words(text_tweets)\n",
    "clean_tweets_users = ppc.pre_processing_users(authors, text_tweets)"
   ]
  },
  {
   "cell_type": "code",
   "execution_count": null,
   "metadata": {},
   "outputs": [],
   "source": [
    "filepath_words = os.path.join(smo_results_basedir, gephi_filename_words)\n",
    "filepath_users = os.path.join(smo_results_basedir, gephi_filename_users)\n",
    "\n",
    "fm.generate_dl_file_words(filepath_words, clean_tweets_words)\n",
    "fm.generate_dl_file_users(filepath_users, authors, clean_tweets_users)"
   ]
  }
 ],
 "metadata": {
  "kernelspec": {
   "display_name": "Python 3",
   "language": "python",
   "name": "python3"
  },
  "language_info": {
   "codemirror_mode": {
    "name": "ipython",
    "version": 3
   },
   "file_extension": ".py",
   "mimetype": "text/x-python",
   "name": "python",
   "nbconvert_exporter": "python",
   "pygments_lexer": "ipython3",
   "version": "3.6.3"
  }
 },
 "nbformat": 4,
 "nbformat_minor": 2
}
